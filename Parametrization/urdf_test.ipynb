{
 "cells": [
  {
   "cell_type": "code",
   "execution_count": 1,
   "metadata": {},
   "outputs": [
    {
     "name": "stderr",
     "output_type": "stream",
     "text": [
      "pybullet build time: Nov 28 2023 23:52:03\n"
     ]
    }
   ],
   "source": [
    "import pybullet as p\n",
    "import pybullet_data\n",
    "import time\n",
    "import os\n",
    "import sys\n",
    "import numpy as np\n",
    "from inertia import *\n",
    "from parametrization import *\n",
    "\n",
    "sys.path.append(os.path.abspath('..'))\n",
    "from Evolutionary_algorithm.link import *"
   ]
  },
  {
   "cell_type": "code",
   "execution_count": 2,
   "metadata": {},
   "outputs": [],
   "source": [
    "%load_ext autoreload\n",
    "%autoreload 2\n",
    "%matplotlib inline"
   ]
  },
  {
   "cell_type": "code",
   "execution_count": 3,
   "metadata": {},
   "outputs": [],
   "source": [
    "# # Connect to PyBullet's GUI\n",
    "# p.connect(p.GUI)\n",
    "\n",
    "# # Set additional search path to find URDF files\n",
    "# p.setAdditionalSearchPath(pybullet_data.getDataPath())\n",
    "\n",
    "# # Load the URDF file\n",
    "# robot_id = p.loadURDF('pendulum.urdf')\n",
    "\n",
    "# # Optionally, set gravity for better visualization\n",
    "# p.setGravity(0, 0, -9.81)\n",
    "\n",
    "# # Run the simulation\n",
    "# while True:\n",
    "#     p.stepSimulation()\n",
    "#     time.sleep(1./240.)"
   ]
  },
  {
   "cell_type": "code",
   "execution_count": 4,
   "metadata": {},
   "outputs": [
    {
     "name": "stdout",
     "output_type": "stream",
     "text": [
      "Calculated Inertia: (48.33333333333333, 48.33333333333333, 13.333333333333332)\n",
      "URDF file dino_copy.urdf updated successfully.\n"
     ]
    }
   ],
   "source": [
    "# Example usage\n",
    "urdf_file = 'dino_copy.urdf'\n",
    "link_name = 'head'\n",
    "shape = Inertia(rho=1, x=2, y=2, z=5, type='box')  # Corrected type\n",
    "print(\"Calculated Inertia:\", shape.calculate_inertia())\n",
    "update_urdf_with_inertia(urdf_file, link_name, shape)\n"
   ]
  },
  {
   "cell_type": "code",
   "execution_count": 5,
   "metadata": {},
   "outputs": [
    {
     "name": "stdout",
     "output_type": "stream",
     "text": [
      "(0.0, 0.0, 2.5)\n",
      "URDF file dino_copy.urdf updated successfully.\n",
      "position of com: (0.0, 0.0, 2.5)\n",
      "Updated Inertia: 111.66666666666666 111.66666666666666 13.333333333333332\n",
      "position of com: (0.0, 0.0, 2.5)\n",
      "Updated Inertia: 48.33333333333333 48.33333333333333 13.333333333333332\n"
     ]
    }
   ],
   "source": [
    "# Example usage\n",
    "urdf_file = 'dino_copy.urdf'\n",
    "link_name = 'head'\n",
    "position_obj = Com_position(r=5, h=6, x=2, y=2, z=5, rpy=[0, 0, 0], type='box')\n",
    "print(position_obj.com_pos)\n",
    "\n",
    "update_urdf_with_position(urdf_file, link_name, position_obj)\n",
    "Ixx, Iyy, Izz = updated_inertia_com(0.9, shape, position_obj)   \n",
    "print(\"position of com:\", position_obj.com_pos)\n",
    "print(\"Updated Inertia:\", Ixx, Iyy, Izz)\n",
    "Ixx, Iyy, Izz = updated_inertia_com(0.5, shape, position_obj)   \n",
    "print(\"position of com:\", position_obj.com_pos)\n",
    "print(\"Updated Inertia:\", Ixx, Iyy, Izz)\n"
   ]
  },
  {
   "cell_type": "code",
   "execution_count": 6,
   "metadata": {},
   "outputs": [],
   "source": [
    "# Example setup of box link with all parameters\n",
    "shape_type = 'box'\n",
    "x_pos = 2\n",
    "y_pos = 2\n",
    "z_pos = 5\n",
    "mass = 5\n",
    "relative_pos_com = 0.5\n",
    "box_link_inertia = Inertia(x=x_pos, y=y_pos, z=z_pos, m= mass, type=shape_type)\n",
    "box_link_position = Com_position(x=x_pos, y=y_pos, z=z_pos, rpy=[0, 0, 0], type=shape_type)\n",
    "Ixx, Iyy, Izz = updated_inertia_com(relative_pos_com, box_link_inertia, box_link_position)\n",
    "box_link = Link(unique_id=f\"base_{0}\", link_type=shape_type, link_name=\"body\", size=[x_pos, y_pos, z_pos], collision=True, origin=box_link_position.calculate_com_position(), inertia=[Ixx, 0, 0, Iyy, 0, Izz], mass=mass, com=box_link_position.com_pos)\n"
   ]
  },
  {
   "cell_type": "code",
   "execution_count": 14,
   "metadata": {},
   "outputs": [
    {
     "name": "stdout",
     "output_type": "stream",
     "text": [
      "The parametrization is for mass\n",
      "The parametrization is for mass\n",
      "The parametrization is for center of mass\n",
      "The parametrization is for volume\n"
     ]
    }
   ],
   "source": [
    "# Example cylinder link\n",
    "cylinder_link = create_link(0, \"cylinder\", \"cylinder_link\", radius=0.01, height=0.01, mass=0.01, relative_com=0.5)\n",
    "\n",
    "# Example box link\n",
    "box_link = create_link(0, \"box\", \"box_link\", x=0.01, y=0.01, z=0.01, mass=0.01, relative_com=0.55)\n",
    "\n",
    "# Example sphere link\n",
    "sphere_link = create_link(0, \"sphere\", \"sphere_link\", radius=0.01, rho=0.01, relative_com=0.5)"
   ]
  },
  {
   "cell_type": "code",
   "execution_count": null,
   "metadata": {},
   "outputs": [],
   "source": []
  }
 ],
 "metadata": {
  "kernelspec": {
   "display_name": "evo",
   "language": "python",
   "name": "python3"
  },
  "language_info": {
   "codemirror_mode": {
    "name": "ipython",
    "version": 3
   },
   "file_extension": ".py",
   "mimetype": "text/x-python",
   "name": "python",
   "nbconvert_exporter": "python",
   "pygments_lexer": "ipython3",
   "version": "3.9.19"
  }
 },
 "nbformat": 4,
 "nbformat_minor": 2
}
